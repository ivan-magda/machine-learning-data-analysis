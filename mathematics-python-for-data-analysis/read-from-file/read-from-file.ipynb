{
 "cells": [
  {
   "cell_type": "code",
   "execution_count": 5,
   "metadata": {
    "collapsed": true
   },
   "outputs": [],
   "source": [
    "def openFile(fileName):\n",
    "    return open(fileName)"
   ]
  },
  {
   "cell_type": "code",
   "execution_count": 6,
   "metadata": {
    "collapsed": true
   },
   "outputs": [],
   "source": [
    "fileName = 'example.txt'\n",
    "file = openFile(fileName)"
   ]
  },
  {
   "cell_type": "code",
   "execution_count": 7,
   "metadata": {
    "collapsed": false
   },
   "outputs": [
    {
     "name": "stdout",
     "output_type": "stream",
     "text": [
      "<class '_io.TextIOWrapper'>\n"
     ]
    }
   ],
   "source": [
    "print(type(file))"
   ]
  },
  {
   "cell_type": "code",
   "execution_count": 8,
   "metadata": {
    "collapsed": false
   },
   "outputs": [
    {
     "name": "stdout",
     "output_type": "stream",
     "text": [
      "Lorem ipsum dolor sit amet, consectetur adipiscing elit. Cras at viverra libero. Praesent lobortis scelerisque volutpat. Proin ac ipsum eget libero vulputate porta sit amet sed sapien. Mauris vel tortor at nibh dictum euismod nec vitae nulla. Proin lorem ipsum, varius eget convallis eu, efficitur sed felis. Nunc erat est, laoreet tempus diam eu, molestie tincidunt lorem. Nunc vel eros dapibus, porta mauris non, euismod metus. Etiam scelerisque est urna, eu lobortis ligula posuere et. Pellentesque ultricies libero est, non finibus dui finibus non. Donec tincidunt efficitur mi eu tristique. Nunc et dolor eget dui tincidunt sodales. Mauris nunc tortor, tincidunt vel eleifend at, ullamcorper eget sem. In vitae fringilla turpis, vitae rutrum lectus. Nulla cursus dui et turpis lacinia, sit amet ornare tortor malesuada. Duis dignissim pulvinar elit vulputate cursus.\n",
      "\n",
      "Morbi et lorem id urna volutpat vehicula. Maecenas porttitor efficitur enim a posuere. Nulla in augue justo. Sed dignissim rutrum elit ac suscipit. Donec mollis congue dui eu dictum. Pellentesque a erat tempus, placerat sem eget, rhoncus lectus. Sed placerat sapien sit amet ex dictum, blandit vehicula enim porttitor. Duis vestibulum magna sit amet turpis aliquet finibus. Duis tincidunt congue mattis. Nunc viverra eros at blandit elementum. Sed ac eleifend sem. Etiam felis est, interdum sed libero eu, congue vulputate felis. Aenean in leo leo. Curabitur euismod mattis sem sed volutpat.\n",
      "\n",
      "Mauris aliquet feugiat lacus. Nunc blandit pretium tempor. Nulla sit amet egestas lacus. Nullam dui dolor, sodales at scelerisque ut, eleifend eu magna. Etiam interdum nisl eu massa pretium placerat. Nam posuere odio non fringilla bibendum. Vivamus ut mi accumsan, laoreet elit vel, elementum sapien. Nulla dictum magna orci, at venenatis mauris accumsan ultricies. Phasellus vulputate scelerisque ligula, ut consectetur lacus fringilla in. Nam accumsan interdum ipsum, consequat eleifend turpis hendrerit non. Nullam dictum viverra metus, in scelerisque augue commodo sed.\n",
      "\n",
      "Sed convallis, nulla in lacinia mattis, odio urna bibendum est, vitae fringilla arcu ex a felis. Mauris vulputate mi vitae libero dapibus sollicitudin. Nunc risus dolor, congue in lorem id, sollicitudin hendrerit sapien. Aliquam erat volutpat. Phasellus et lobortis sem. Curabitur convallis quam non tortor dignissim tristique at at nisl. Phasellus dictum ligula eros, sodales luctus lacus mollis ut. Curabitur ut mauris placerat, ultricies massa eu, maximus mauris. Sed at sem ac neque dapibus volutpat. Vivamus tristique orci nec purus tincidunt, eget tempor justo convallis. Vivamus euismod nec felis dictum iaculis. Etiam sollicitudin tempor ligula, in convallis augue elementum sit amet. Vivamus accumsan, elit iaculis mollis cursus, libero nunc dictum lorem, sed fermentum ante orci nec libero. Nullam turpis augue, convallis sed posuere vel, ullamcorper at tortor.\n",
      "\n",
      "Nullam quis mi vestibulum, vestibulum magna sed, auctor quam. Donec in nibh non tortor interdum imperdiet at id augue. Etiam pulvinar lorem nisl. Etiam scelerisque, velit a sollicitudin laoreet, neque ante molestie metus, ut aliquet neque mi et lorem. Aenean sed est ac eros bibendum imperdiet. Morbi facilisis ornare ultricies. Sed pellentesque sodales nibh. Etiam sit amet ultrices sem, vitae porta tellus. Mauris ac rhoncus orci, vitae finibus nisl. Vestibulum nec leo ex. Suspendisse lobortis tristique dui eget iaculis. Cras ullamcorper aliquam dignissim.\n",
      "\n"
     ]
    }
   ],
   "source": [
    "print(file.read())"
   ]
  },
  {
   "cell_type": "code",
   "execution_count": 9,
   "metadata": {
    "collapsed": false
   },
   "outputs": [],
   "source": [
    "file = openFile(fileName)"
   ]
  },
  {
   "cell_type": "code",
   "execution_count": 10,
   "metadata": {
    "collapsed": false
   },
   "outputs": [
    {
     "data": {
      "text/plain": [
       "'Lorem ipsum dolor sit amet, consectetur adipiscing elit. Cras at viverra libero. Praesent lobortis scelerisque volutpat. Proin ac ipsum eget libero vulputate porta sit amet sed sapien. Mauris vel tortor at nibh dictum euismod nec vitae nulla. Proin lorem ipsum, varius eget convallis eu, efficitur sed felis. Nunc erat est, laoreet tempus diam eu, molestie tincidunt lorem. Nunc vel eros dapibus, porta mauris non, euismod metus. Etiam scelerisque est urna, eu lobortis ligula posuere et. Pellentesque ultricies libero est, non finibus dui finibus non. Donec tincidunt efficitur mi eu tristique. Nunc et dolor eget dui tincidunt sodales. Mauris nunc tortor, tincidunt vel eleifend at, ullamcorper eget sem. In vitae fringilla turpis, vitae rutrum lectus. Nulla cursus dui et turpis lacinia, sit amet ornare tortor malesuada. Duis dignissim pulvinar elit vulputate cursus.\\n'"
      ]
     },
     "execution_count": 10,
     "metadata": {},
     "output_type": "execute_result"
    }
   ],
   "source": [
    "file.readline()"
   ]
  },
  {
   "cell_type": "code",
   "execution_count": 11,
   "metadata": {
    "collapsed": false
   },
   "outputs": [
    {
     "data": {
      "text/plain": [
       "'\\n'"
      ]
     },
     "execution_count": 11,
     "metadata": {},
     "output_type": "execute_result"
    }
   ],
   "source": [
    "file.readline()"
   ]
  },
  {
   "cell_type": "code",
   "execution_count": 12,
   "metadata": {
    "collapsed": false
   },
   "outputs": [
    {
     "data": {
      "text/plain": [
       "'Morbi et lorem id urna volutpat vehicula. Maecenas porttitor efficitur enim a posuere. Nulla in augue justo. Sed dignissim rutrum elit ac suscipit. Donec mollis congue dui eu dictum. Pellentesque a erat tempus, placerat sem eget, rhoncus lectus. Sed placerat sapien sit amet ex dictum, blandit vehicula enim porttitor. Duis vestibulum magna sit amet turpis aliquet finibus. Duis tincidunt congue mattis. Nunc viverra eros at blandit elementum. Sed ac eleifend sem. Etiam felis est, interdum sed libero eu, congue vulputate felis. Aenean in leo leo. Curabitur euismod mattis sem sed volutpat.\\n'"
      ]
     },
     "execution_count": 12,
     "metadata": {},
     "output_type": "execute_result"
    }
   ],
   "source": [
    "file.readline()"
   ]
  },
  {
   "cell_type": "code",
   "execution_count": 13,
   "metadata": {
    "collapsed": true
   },
   "outputs": [],
   "source": [
    "file = openFile(fileName)"
   ]
  },
  {
   "cell_type": "code",
   "execution_count": 14,
   "metadata": {
    "collapsed": false
   },
   "outputs": [
    {
     "name": "stdout",
     "output_type": "stream",
     "text": [
      "Lorem ipsum dolor sit amet, consectetur adipiscing elit. Cras at viverra libero. Praesent lobortis scelerisque volutpat. Proin ac ipsum eget libero vulputate porta sit amet sed sapien. Mauris vel tortor at nibh dictum euismod nec vitae nulla. Proin lorem ipsum, varius eget convallis eu, efficitur sed felis. Nunc erat est, laoreet tempus diam eu, molestie tincidunt lorem. Nunc vel eros dapibus, porta mauris non, euismod metus. Etiam scelerisque est urna, eu lobortis ligula posuere et. Pellentesque ultricies libero est, non finibus dui finibus non. Donec tincidunt efficitur mi eu tristique. Nunc et dolor eget dui tincidunt sodales. Mauris nunc tortor, tincidunt vel eleifend at, ullamcorper eget sem. In vitae fringilla turpis, vitae rutrum lectus. Nulla cursus dui et turpis lacinia, sit amet ornare tortor malesuada. Duis dignissim pulvinar elit vulputate cursus.\n",
      "\n",
      "Morbi et lorem id urna volutpat vehicula. Maecenas porttitor efficitur enim a posuere. Nulla in augue justo. Sed dignissim rutrum elit ac suscipit. Donec mollis congue dui eu dictum. Pellentesque a erat tempus, placerat sem eget, rhoncus lectus. Sed placerat sapien sit amet ex dictum, blandit vehicula enim porttitor. Duis vestibulum magna sit amet turpis aliquet finibus. Duis tincidunt congue mattis. Nunc viverra eros at blandit elementum. Sed ac eleifend sem. Etiam felis est, interdum sed libero eu, congue vulputate felis. Aenean in leo leo. Curabitur euismod mattis sem sed volutpat.\n",
      "\n",
      "Mauris aliquet feugiat lacus. Nunc blandit pretium tempor. Nulla sit amet egestas lacus. Nullam dui dolor, sodales at scelerisque ut, eleifend eu magna. Etiam interdum nisl eu massa pretium placerat. Nam posuere odio non fringilla bibendum. Vivamus ut mi accumsan, laoreet elit vel, elementum sapien. Nulla dictum magna orci, at venenatis mauris accumsan ultricies. Phasellus vulputate scelerisque ligula, ut consectetur lacus fringilla in. Nam accumsan interdum ipsum, consequat eleifend turpis hendrerit non. Nullam dictum viverra metus, in scelerisque augue commodo sed.\n",
      "\n",
      "Sed convallis, nulla in lacinia mattis, odio urna bibendum est, vitae fringilla arcu ex a felis. Mauris vulputate mi vitae libero dapibus sollicitudin. Nunc risus dolor, congue in lorem id, sollicitudin hendrerit sapien. Aliquam erat volutpat. Phasellus et lobortis sem. Curabitur convallis quam non tortor dignissim tristique at at nisl. Phasellus dictum ligula eros, sodales luctus lacus mollis ut. Curabitur ut mauris placerat, ultricies massa eu, maximus mauris. Sed at sem ac neque dapibus volutpat. Vivamus tristique orci nec purus tincidunt, eget tempor justo convallis. Vivamus euismod nec felis dictum iaculis. Etiam sollicitudin tempor ligula, in convallis augue elementum sit amet. Vivamus accumsan, elit iaculis mollis cursus, libero nunc dictum lorem, sed fermentum ante orci nec libero. Nullam turpis augue, convallis sed posuere vel, ullamcorper at tortor.\n",
      "\n",
      "Nullam quis mi vestibulum, vestibulum magna sed, auctor quam. Donec in nibh non tortor interdum imperdiet at id augue. Etiam pulvinar lorem nisl. Etiam scelerisque, velit a sollicitudin laoreet, neque ante molestie metus, ut aliquet neque mi et lorem. Aenean sed est ac eros bibendum imperdiet. Morbi facilisis ornare ultricies. Sed pellentesque sodales nibh. Etiam sit amet ultrices sem, vitae porta tellus. Mauris ac rhoncus orci, vitae finibus nisl. Vestibulum nec leo ex. Suspendisse lobortis tristique dui eget iaculis. Cras ullamcorper aliquam dignissim.\n"
     ]
    }
   ],
   "source": [
    "for line in file:\n",
    "    print(line.strip())"
   ]
  },
  {
   "cell_type": "code",
   "execution_count": 16,
   "metadata": {
    "collapsed": false
   },
   "outputs": [
    {
     "name": "stdout",
     "output_type": "stream",
     "text": [
      "9\n"
     ]
    }
   ],
   "source": [
    "file = openFile(fileName)\n",
    "linesList = list(file)\n",
    "print(len(linesList))"
   ]
  },
  {
   "cell_type": "code",
   "execution_count": 18,
   "metadata": {
    "collapsed": false
   },
   "outputs": [
    {
     "name": "stdout",
     "output_type": "stream",
     "text": [
      "9\n"
     ]
    }
   ],
   "source": [
    "file = openFile(fileName)\n",
    "lines = file.readlines()\n",
    "print(len(lines))"
   ]
  },
  {
   "cell_type": "code",
   "execution_count": 19,
   "metadata": {
    "collapsed": true
   },
   "outputs": [],
   "source": [
    "file = openFile(fileName)\n",
    "file.close()"
   ]
  },
  {
   "cell_type": "code",
   "execution_count": 20,
   "metadata": {
    "collapsed": false
   },
   "outputs": [
    {
     "ename": "ValueError",
     "evalue": "I/O operation on closed file.",
     "output_type": "error",
     "traceback": [
      "\u001b[0;31m---------------------------------------------------------------------------\u001b[0m",
      "\u001b[0;31mValueError\u001b[0m                                Traceback (most recent call last)",
      "\u001b[0;32m<ipython-input-20-b95781cf6aa3>\u001b[0m in \u001b[0;36m<module>\u001b[0;34m()\u001b[0m\n\u001b[0;32m----> 1\u001b[0;31m \u001b[0mfile\u001b[0m\u001b[0;34m.\u001b[0m\u001b[0mread\u001b[0m\u001b[0;34m(\u001b[0m\u001b[0;34m)\u001b[0m\u001b[0;34m\u001b[0m\u001b[0m\n\u001b[0m",
      "\u001b[0;31mValueError\u001b[0m: I/O operation on closed file."
     ]
    }
   ],
   "source": [
    "file.read()"
   ]
  },
  {
   "cell_type": "markdown",
   "metadata": {},
   "source": [
    "# Codecs"
   ]
  },
  {
   "cell_type": "code",
   "execution_count": 22,
   "metadata": {
    "collapsed": true
   },
   "outputs": [],
   "source": [
    "import codecs"
   ]
  },
  {
   "cell_type": "code",
   "execution_count": 23,
   "metadata": {
    "collapsed": true
   },
   "outputs": [],
   "source": [
    "fileWithEncoding = codecs.open(fileName, 'r', encoding='koi8-r')"
   ]
  },
  {
   "cell_type": "code",
   "execution_count": 24,
   "metadata": {
    "collapsed": false
   },
   "outputs": [
    {
     "data": {
      "text/plain": [
       "'Lorem ipsum dolor sit amet, consectetur adipiscing elit. Cras at viverra libero. Praesent lobortis scelerisque volutpat. Proin ac ipsum eget libero vulputate porta sit amet sed sapien. Mauris vel tortor at nibh dictum euismod nec vitae nulla. Proin lorem ipsum, varius eget convallis eu, efficitur sed felis. Nunc erat est, laoreet tempus diam eu, molestie tincidunt lorem. Nunc vel eros dapibus, porta mauris non, euismod metus. Etiam scelerisque est urna, eu lobortis ligula posuere et. Pellentesque ultricies libero est, non finibus dui finibus non. Donec tincidunt efficitur mi eu tristique. Nunc et dolor eget dui tincidunt sodales. Mauris nunc tortor, tincidunt vel eleifend at, ullamcorper eget sem. In vitae fringilla turpis, vitae rutrum lectus. Nulla cursus dui et turpis lacinia, sit amet ornare tortor malesuada. Duis dignissim pulvinar elit vulputate cursus.\\n'"
      ]
     },
     "execution_count": 24,
     "metadata": {},
     "output_type": "execute_result"
    }
   ],
   "source": [
    "fileWithEncoding.readline()"
   ]
  },
  {
   "cell_type": "code",
   "execution_count": null,
   "metadata": {
    "collapsed": true
   },
   "outputs": [],
   "source": []
  }
 ],
 "metadata": {
  "kernelspec": {
   "display_name": "Python 3",
   "language": "python",
   "name": "python3"
  },
  "language_info": {
   "codemirror_mode": {
    "name": "ipython",
    "version": 3
   },
   "file_extension": ".py",
   "mimetype": "text/x-python",
   "name": "python",
   "nbconvert_exporter": "python",
   "pygments_lexer": "ipython3",
   "version": "3.5.2"
  }
 },
 "nbformat": 4,
 "nbformat_minor": 1
}
