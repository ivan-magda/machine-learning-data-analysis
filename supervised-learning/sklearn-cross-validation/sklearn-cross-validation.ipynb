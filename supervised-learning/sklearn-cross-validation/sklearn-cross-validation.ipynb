{
 "cells": [
  {
   "cell_type": "markdown",
   "metadata": {},
   "source": [
    "# Sklearn"
   ]
  },
  {
   "cell_type": "markdown",
   "metadata": {},
   "source": [
    "## sklearn.model_selection"
   ]
  },
  {
   "cell_type": "markdown",
   "metadata": {},
   "source": [
    "документация: http://scikit-learn.org/stable/modules/cross_validation.html"
   ]
  },
  {
   "cell_type": "code",
   "execution_count": 1,
   "metadata": {},
   "outputs": [],
   "source": [
    "from sklearn import model_selection, datasets\n",
    "import numpy as np"
   ]
  },
  {
   "cell_type": "markdown",
   "metadata": {},
   "source": [
    "### Разовое разбиение данных на обучение и тест с помощью train_test_split"
   ]
  },
  {
   "cell_type": "code",
   "execution_count": 2,
   "metadata": {},
   "outputs": [],
   "source": [
    "iris = datasets.load_iris()"
   ]
  },
  {
   "cell_type": "code",
   "execution_count": 3,
   "metadata": {},
   "outputs": [],
   "source": [
    "train_data, test_data, train_labels, test_labels = model_selection.train_test_split(iris.data, iris.target, \n",
    "                                                                                     test_size = 0.3)"
   ]
  },
  {
   "cell_type": "code",
   "execution_count": 4,
   "metadata": {},
   "outputs": [
    {
     "data": {
      "text/plain": [
       "0.3"
      ]
     },
     "execution_count": 4,
     "metadata": {},
     "output_type": "execute_result"
    }
   ],
   "source": [
    "#убедимся, что тестовая выборка действительно составляет 0.3 от всех данных\n",
    "float(len(test_labels))/len(iris.data)"
   ]
  },
  {
   "cell_type": "code",
   "execution_count": 5,
   "metadata": {},
   "outputs": [
    {
     "name": "stdout",
     "output_type": "stream",
     "text": [
      "Размер обучающей выборки: 105 объектов \n",
      "Размер тестовой выборки: 45 объектов\n"
     ]
    }
   ],
   "source": [
    "print('Размер обучающей выборки: {} объектов \\nРазмер тестовой выборки: {} объектов'.format(len(train_data),\n",
    "                                                                                            len(test_data)))"
   ]
  },
  {
   "cell_type": "code",
   "execution_count": 6,
   "metadata": {},
   "outputs": [
    {
     "name": "stdout",
     "output_type": "stream",
     "text": [
      "Обучающая выборка:\n",
      " [[ 5.   3.5  1.3  0.3]\n",
      " [ 6.3  2.5  4.9  1.5]\n",
      " [ 4.6  3.1  1.5  0.2]\n",
      " [ 6.4  2.8  5.6  2.2]\n",
      " [ 4.8  3.   1.4  0.3]]\n",
      "\n",
      "\n",
      "Тестовая выборка:\n",
      " [[ 6.7  2.5  5.8  1.8]\n",
      " [ 6.1  3.   4.6  1.4]\n",
      " [ 5.1  3.5  1.4  0.3]\n",
      " [ 5.8  2.7  4.1  1. ]\n",
      " [ 4.8  3.1  1.6  0.2]]\n"
     ]
    }
   ],
   "source": [
    "print('Обучающая выборка:\\n', train_data[:5])\n",
    "print('\\n')\n",
    "print('Тестовая выборка:\\n', test_data[:5])"
   ]
  },
  {
   "cell_type": "code",
   "execution_count": 7,
   "metadata": {},
   "outputs": [
    {
     "name": "stdout",
     "output_type": "stream",
     "text": [
      "Метки классов на обучающей выборке:\n",
      " [0 1 0 2 0 1 2 2 2 0 0 2 1 0 0 1 2 1 2 2 0 0 1 0 1 0 1 2 1 1 0 2 0 2 1 2 0\n",
      " 2 2 0 1 1 2 1 0 2 1 1 0 0 2 2 1 1 2 2 2 2 0 0 2 2 0 0 0 2 1 1 1 2 1 1 1 1\n",
      " 0 1 2 0 1 0 1 0 0 0 0 0 0 1 2 0 1 2 0 2 1 2 0 0 0 2 0 0 0 1 1]\n",
      "\n",
      "\n",
      "Метки классов на тестовой выборке:\n",
      " [2 1 0 1 0 0 1 1 1 2 1 2 2 1 1 1 1 2 1 1 0 2 1 0 2 2 0 2 1 0 1 0 2 1 0 2 2\n",
      " 2 0 2 2 2 1 2 2]\n"
     ]
    }
   ],
   "source": [
    "print('Метки классов на обучающей выборке:\\n', train_labels)\n",
    "print('\\n')\n",
    "print('Метки классов на тестовой выборке:\\n', test_labels)"
   ]
  },
  {
   "cell_type": "markdown",
   "metadata": {},
   "source": [
    "### Стратегии проведения кросс-валидации"
   ]
  },
  {
   "cell_type": "code",
   "execution_count": 8,
   "metadata": {},
   "outputs": [],
   "source": [
    "#сгенерируем короткое подобие датасета, где элементы совпадают с порядковым номером\n",
    "X = range(0,10)"
   ]
  },
  {
   "cell_type": "markdown",
   "metadata": {},
   "source": [
    "#### KFold"
   ]
  },
  {
   "cell_type": "code",
   "execution_count": 10,
   "metadata": {},
   "outputs": [
    {
     "name": "stdout",
     "output_type": "stream",
     "text": [
      "[2 3 4 5 6 7 8 9] [0 1]\n",
      "[0 1 4 5 6 7 8 9] [2 3]\n",
      "[0 1 2 3 6 7 8 9] [4 5]\n",
      "[0 1 2 3 4 5 8 9] [6 7]\n",
      "[0 1 2 3 4 5 6 7] [8 9]\n"
     ]
    }
   ],
   "source": [
    "kf = model_selection.KFold(n_splits = 5)\n",
    "for train_indices, test_indices in kf.split(X):\n",
    "    print(train_indices, test_indices)"
   ]
  },
  {
   "cell_type": "code",
   "execution_count": 11,
   "metadata": {},
   "outputs": [
    {
     "name": "stdout",
     "output_type": "stream",
     "text": [
      "[0 2 4 7 9] [1 3 5 6 8]\n",
      "[1 3 5 6 8] [0 2 4 7 9]\n"
     ]
    }
   ],
   "source": [
    "kf = model_selection.KFold(n_splits = 2, shuffle = True)\n",
    "for train_indices, test_indices in kf.split(X):\n",
    "    print(train_indices, test_indices)"
   ]
  },
  {
   "cell_type": "code",
   "execution_count": 12,
   "metadata": {},
   "outputs": [
    {
     "name": "stdout",
     "output_type": "stream",
     "text": [
      "[1 3 5 7 8] [0 2 4 6 9]\n",
      "[0 2 4 6 9] [1 3 5 7 8]\n"
     ]
    }
   ],
   "source": [
    "kf = model_selection.KFold(n_splits = 2, shuffle = True, random_state = 1)\n",
    "for train_indices, test_indices in kf.split(X):\n",
    "    print(train_indices, test_indices)"
   ]
  },
  {
   "cell_type": "markdown",
   "metadata": {},
   "source": [
    "#### StratifiedKFold"
   ]
  },
  {
   "cell_type": "code",
   "execution_count": 13,
   "metadata": {},
   "outputs": [
    {
     "name": "stdout",
     "output_type": "stream",
     "text": [
      "[0 0 0 0 0 1 1 1 1 1]\n",
      "[3 4 8 9] [0 1 2 5 6 7]\n",
      "[0 1 2 5 6 7] [3 4 8 9]\n"
     ]
    }
   ],
   "source": [
    "y = np.array([0] * 5 + [1] * 5)\n",
    "print(y)\n",
    "\n",
    "skf = model_selection.StratifiedKFold(n_splits = 2, shuffle = True, random_state = 0)\n",
    "for train_indices, test_indices in skf.split(X, y):\n",
    "    print(train_indices, test_indices)"
   ]
  },
  {
   "cell_type": "code",
   "execution_count": 14,
   "metadata": {},
   "outputs": [
    {
     "name": "stdout",
     "output_type": "stream",
     "text": [
      "[0 1 0 1 0 1 0 1 0 1]\n",
      "[2 6 7 9] [0 1 3 4 5 8]\n",
      "[0 1 3 4 5 8] [2 6 7 9]\n"
     ]
    }
   ],
   "source": [
    "target = np.array([0, 1] * 5)\n",
    "print(target)\n",
    "\n",
    "skf = model_selection.StratifiedKFold(n_splits = 2,shuffle = True)\n",
    "for train_indices, test_indices in skf.split(X, target):\n",
    "    print(train_indices, test_indices)"
   ]
  },
  {
   "cell_type": "markdown",
   "metadata": {},
   "source": [
    "#### ShuffleSplit"
   ]
  },
  {
   "cell_type": "code",
   "execution_count": 15,
   "metadata": {},
   "outputs": [
    {
     "name": "stdout",
     "output_type": "stream",
     "text": [
      "[6 7 5 8 4 1 0 2] [9 3]\n",
      "[0 1 2 5 6 7 8 9] [4 3]\n",
      "[8 6 5 3 9 1 7 2] [4 0]\n",
      "[3 8 1 5 7 6 9 0] [2 4]\n",
      "[0 6 1 3 5 4 9 7] [8 2]\n",
      "[3 5 0 8 2 9 6 4] [1 7]\n",
      "[3 0 7 5 6 4 9 1] [8 2]\n",
      "[6 3 4 1 2 0 5 7] [9 8]\n",
      "[1 3 8 9 6 2 5 0] [4 7]\n",
      "[6 5 3 7 1 9 0 2] [8 4]\n"
     ]
    }
   ],
   "source": [
    "ss = model_selection.ShuffleSplit(n_splits = 10, test_size = 0.2)\n",
    "\n",
    "for train_indices, test_indices in ss.split(X):\n",
    "    print(train_indices, test_indices)"
   ]
  },
  {
   "cell_type": "markdown",
   "metadata": {},
   "source": [
    "#### StratifiedShuffleSplit"
   ]
  },
  {
   "cell_type": "code",
   "execution_count": 16,
   "metadata": {},
   "outputs": [
    {
     "name": "stdout",
     "output_type": "stream",
     "text": [
      "[0 0 0 0 0 1 1 1 1 1]\n",
      "[9 3 2 5 1 8 4 6] [0 7]\n",
      "[4 1 7 8 2 3 5 9] [0 6]\n",
      "[9 5 6 3 4 1 0 8] [7 2]\n",
      "[9 0 3 5 7 4 2 6] [8 1]\n"
     ]
    }
   ],
   "source": [
    "target = np.array([0] * 5 + [1] * 5)\n",
    "print(target)\n",
    "\n",
    "sss = model_selection.StratifiedShuffleSplit(n_splits = 4, test_size = 0.2)\n",
    "for train_indices, test_indices in sss.split(X, target):\n",
    "    print(train_indices, test_indices)"
   ]
  },
  {
   "cell_type": "markdown",
   "metadata": {},
   "source": [
    "#### Leave-One-Out"
   ]
  },
  {
   "cell_type": "code",
   "execution_count": 17,
   "metadata": {},
   "outputs": [
    {
     "name": "stdout",
     "output_type": "stream",
     "text": [
      "[1 2 3 4 5 6 7 8 9] [0]\n",
      "[0 2 3 4 5 6 7 8 9] [1]\n",
      "[0 1 3 4 5 6 7 8 9] [2]\n",
      "[0 1 2 4 5 6 7 8 9] [3]\n",
      "[0 1 2 3 5 6 7 8 9] [4]\n",
      "[0 1 2 3 4 6 7 8 9] [5]\n",
      "[0 1 2 3 4 5 7 8 9] [6]\n",
      "[0 1 2 3 4 5 6 8 9] [7]\n",
      "[0 1 2 3 4 5 6 7 9] [8]\n",
      "[0 1 2 3 4 5 6 7 8] [9]\n"
     ]
    }
   ],
   "source": [
    "loo = model_selection.LeaveOneOut()\n",
    "\n",
    "for train_indices, test_index in loo.split(X):\n",
    "    print(train_indices, test_index)"
   ]
  },
  {
   "cell_type": "markdown",
   "metadata": {},
   "source": [
    "Больше стратегий проведения кросс-валидации доступно здесь: http://scikit-learn.org/stable/modules/cross_validation.html#cross-validation-iterators"
   ]
  }
 ],
 "metadata": {
  "anaconda-cloud": {},
  "kernelspec": {
   "display_name": "Python [conda root]",
   "language": "python",
   "name": "conda-root-py"
  },
  "language_info": {
   "codemirror_mode": {
    "name": "ipython",
    "version": 3
   },
   "file_extension": ".py",
   "mimetype": "text/x-python",
   "name": "python",
   "nbconvert_exporter": "python",
   "pygments_lexer": "ipython3",
   "version": "3.6.3"
  }
 },
 "nbformat": 4,
 "nbformat_minor": 1
}
