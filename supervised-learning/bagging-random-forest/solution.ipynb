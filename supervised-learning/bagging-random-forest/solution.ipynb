{
 "cells": [
  {
   "cell_type": "code",
   "execution_count": 24,
   "metadata": {},
   "outputs": [],
   "source": [
    "from sklearn import datasets, model_selection, tree, ensemble, grid_search\n",
    "import matplotlib.pyplot as plt\n",
    "import numpy as np\n",
    "\n",
    "%matplotlib inline"
   ]
  },
  {
   "cell_type": "code",
   "execution_count": 17,
   "metadata": {},
   "outputs": [
    {
     "name": "stdout",
     "output_type": "stream",
     "text": [
      "(1797, 64)\n",
      "(1797,)\n"
     ]
    }
   ],
   "source": [
    "digits = datasets.load_digits()\n",
    "\n",
    "X_train = digits.data\n",
    "y_train = digits.target\n",
    "\n",
    "print(X_train.shape)\n",
    "print(y_train.shape)"
   ]
  },
  {
   "cell_type": "code",
   "execution_count": 19,
   "metadata": {},
   "outputs": [
    {
     "name": "stdout",
     "output_type": "stream",
     "text": [
      "[  0.   0.   5.  13.   9.   1.   0.   0.   0.   0.  13.  15.  10.  15.   5.\n",
      "   0.   0.   3.  15.   2.   0.  11.   8.   0.   0.   4.  12.   0.   0.   8.\n",
      "   8.   0.   0.   5.   8.   0.   0.   9.   8.   0.   0.   4.  11.   0.   1.\n",
      "  12.   7.   0.   0.   2.  14.   5.  10.  12.   0.   0.   0.   0.   6.  13.\n",
      "  10.   0.   0.   0.]\n"
     ]
    }
   ],
   "source": [
    "print(X_train[0])"
   ]
  },
  {
   "cell_type": "code",
   "execution_count": 21,
   "metadata": {},
   "outputs": [
    {
     "name": "stdout",
     "output_type": "stream",
     "text": [
      "[0 1 2 3 4]\n"
     ]
    }
   ],
   "source": [
    "print(y_train[:5])"
   ]
  },
  {
   "cell_type": "markdown",
   "metadata": {},
   "source": [
    "#### 1. DecisionTreeClassifier"
   ]
  },
  {
   "cell_type": "code",
   "execution_count": 22,
   "metadata": {},
   "outputs": [],
   "source": [
    "def write_answer_1(answer):\n",
    "    with open('answer_1.txt', 'w') as file:\n",
    "        file.write(str(answer))"
   ]
  },
  {
   "cell_type": "code",
   "execution_count": 25,
   "metadata": {},
   "outputs": [],
   "source": [
    "decision_tree_clf = tree.DecisionTreeClassifier()\n",
    "cross_val_score = model_selection.cross_val_score(decision_tree_clf, X_train, y_train, cv=10, n_jobs=-1)"
   ]
  },
  {
   "cell_type": "code",
   "execution_count": 28,
   "metadata": {},
   "outputs": [
    {
     "name": "stdout",
     "output_type": "stream",
     "text": [
      "[ 0.8         0.84153005  0.83977901  0.82777778  0.79888268  0.87709497\n",
      "  0.88826816  0.82022472  0.85310734  0.78409091]\n",
      "0.833075562083\n"
     ]
    }
   ],
   "source": [
    "print(cross_val_score)\n",
    "print(cross_val_score.mean())\n",
    "\n",
    "write_answer_1(cross_val_score.mean())"
   ]
  },
  {
   "cell_type": "markdown",
   "metadata": {},
   "source": [
    "Качество работы одного решающего дерева обычно получается не очень высоким, но на этом датасете получилось неплохо. Обратите внимание - дерево вполне могло получиться сильно переобученным, ведь мы не ограничивали его глубину."
   ]
  },
  {
   "cell_type": "markdown",
   "metadata": {},
   "source": [
    "#### 2. BaggingClassifier"
   ]
  },
  {
   "cell_type": "code",
   "execution_count": 29,
   "metadata": {},
   "outputs": [],
   "source": [
    "def write_answer_2(answer):\n",
    "    with open('answer_2.txt', 'w') as file:\n",
    "        file.write(str(answer))"
   ]
  },
  {
   "cell_type": "code",
   "execution_count": 30,
   "metadata": {},
   "outputs": [],
   "source": [
    "bagging_clf = ensemble.BaggingClassifier(n_estimators=100)\n",
    "bagging_clf.fit(X_train, y_train)\n",
    "\n",
    "bagging_score = model_selection.cross_val_score(bagging_clf, X_train, y_train, cv=10, n_jobs=-1)"
   ]
  },
  {
   "cell_type": "code",
   "execution_count": 31,
   "metadata": {},
   "outputs": [
    {
     "name": "stdout",
     "output_type": "stream",
     "text": [
      "[ 0.86486486  0.95081967  0.92265193  0.93333333  0.91620112  0.98324022\n",
      "  0.97206704  0.91573034  0.86440678  0.92613636]\n",
      "0.92494516643\n"
     ]
    }
   ],
   "source": [
    "print(bagging_score)\n",
    "print(bagging_score.mean())\n",
    "\n",
    "write_answer_2(bagging_score.mean())"
   ]
  },
  {
   "cell_type": "markdown",
   "metadata": {},
   "source": [
    "Деревья неустойчивы к изменениям в обучающей выборке, поэтому в результате усреднения по деревьям, построенным на немного разных выборках (как это происходит в бэггинге), получается более точный ответ."
   ]
  },
  {
   "cell_type": "markdown",
   "metadata": {},
   "source": [
    "#### 3. Using $\\sqrt{d}$ features for fitting:"
   ]
  },
  {
   "cell_type": "code",
   "execution_count": 32,
   "metadata": {},
   "outputs": [],
   "source": [
    "def write_answer_3(answer):\n",
    "    with open('answer_3.txt', 'w') as file:\n",
    "        file.write(str(answer))"
   ]
  },
  {
   "cell_type": "code",
   "execution_count": 33,
   "metadata": {},
   "outputs": [],
   "source": [
    "opt_bagging_clf = ensemble.BaggingClassifier(n_estimators=100,\n",
    "                                             max_features=int(np.sqrt(X_train.shape[1])))\n",
    "opt_bagging_clf.fit(X_train, y_train)\n",
    "\n",
    "opt_bagging_score = model_selection.cross_val_score(opt_bagging_clf, X_train, y_train, cv=10, n_jobs=-1)"
   ]
  },
  {
   "cell_type": "code",
   "execution_count": 34,
   "metadata": {},
   "outputs": [
    {
     "name": "stdout",
     "output_type": "stream",
     "text": [
      "[ 0.91891892  0.95081967  0.91712707  0.87777778  0.92178771  0.94413408\n",
      "  0.94972067  0.98314607  0.92090395  0.93181818]\n",
      "0.931615410279\n"
     ]
    }
   ],
   "source": [
    "print(opt_bagging_score)\n",
    "print(opt_bagging_score.mean())\n",
    "\n",
    "write_answer_3(opt_bagging_score.mean())"
   ]
  },
  {
   "cell_type": "markdown",
   "metadata": {},
   "source": [
    "С добавлением выбора случайных признаков деревья стали различаться еще больше, в результате композиция работает лучше."
   ]
  },
  {
   "cell_type": "markdown",
   "metadata": {},
   "source": [
    "#### 4. Using $\\sqrt{d}$ features for splitting every vertex:"
   ]
  },
  {
   "cell_type": "code",
   "execution_count": 35,
   "metadata": {},
   "outputs": [],
   "source": [
    "def write_answer_4(answer):\n",
    "    with open('answer_4.txt', 'w') as file:\n",
    "        file.write(str(answer))"
   ]
  },
  {
   "cell_type": "code",
   "execution_count": 38,
   "metadata": {},
   "outputs": [],
   "source": [
    "opt_decision_tree_clf = tree.DecisionTreeClassifier(max_features=int(np.sqrt(X_train.shape[1])))\n",
    "opt_bagging_clf_2 = ensemble.BaggingClassifier(base_estimator=opt_decision_tree_clf, n_estimators=100)\n",
    "opt_bagging_clf_2.fit(X_train, y_train)\n",
    "\n",
    "opt_bagging_score_2 = model_selection.cross_val_score(opt_bagging_clf_2, X_train, y_train, cv=10, n_jobs=-1)"
   ]
  },
  {
   "cell_type": "code",
   "execution_count": 39,
   "metadata": {},
   "outputs": [
    {
     "name": "stdout",
     "output_type": "stream",
     "text": [
      "[ 0.92972973  0.9726776   0.93370166  0.95        0.96089385  0.97206704\n",
      "  0.98324022  0.95505618  0.92090395  0.94318182]\n",
      "0.952145205289\n"
     ]
    }
   ],
   "source": [
    "print(opt_bagging_score_2)\n",
    "print(opt_bagging_score_2.mean())\n",
    "\n",
    "write_answer_4(opt_bagging_score_2.mean())"
   ]
  },
  {
   "cell_type": "markdown",
   "metadata": {},
   "source": [
    "Если выбирать случайные признаки в каждой вершине, отличия между деревьями становятся еще более существенными, что хорошо сказывается на качестве работы композиции. Именно так и устроен случайный лес."
   ]
  },
  {
   "cell_type": "markdown",
   "metadata": {},
   "source": [
    "#### 5. RandomForestClassifier() from sklearn.ensemble:"
   ]
  },
  {
   "cell_type": "code",
   "execution_count": 41,
   "metadata": {},
   "outputs": [],
   "source": [
    "rf_clf = ensemble.RandomForestClassifier()\n",
    "rf_clf.fit(X_train, y_train)\n",
    "\n",
    "scores_rf_clf = model_selection.cross_val_score(rf_clf, X_train, y_train, cv=10)"
   ]
  },
  {
   "cell_type": "code",
   "execution_count": 42,
   "metadata": {},
   "outputs": [
    {
     "name": "stdout",
     "output_type": "stream",
     "text": [
      "[ 0.90810811  0.95628415  0.88950276  0.87777778  0.91061453  0.93296089\n",
      "  0.95530726  0.96067416  0.89830508  0.90340909]\n",
      "0.919294381584\n"
     ]
    }
   ],
   "source": [
    "print(scores_rf_clf)\n",
    "print(scores_rf_clf.mean())"
   ]
  },
  {
   "cell_type": "code",
   "execution_count": 43,
   "metadata": {},
   "outputs": [],
   "source": [
    "parameters_grid =  {\n",
    "    'n_estimators' : [5, 10, 15, 30, 50, 100, 150, 200, 300, 500],\n",
    "    'max_features' : [1, 2, 3, 4, 5, 10, 20, 30, 40, 50, 60],\n",
    "    'max_depth' : [2, 4, 6, 8, 10, 20, 30, 50, 100],\n",
    "}"
   ]
  },
  {
   "cell_type": "code",
   "execution_count": 44,
   "metadata": {},
   "outputs": [],
   "source": [
    "mean_scores = []\n",
    "\n",
    "for count_estimators in parameters_grid['n_estimators']:\n",
    "    score = model_selection.cross_val_score(\n",
    "        ensemble.RandomForestClassifier(n_estimators=count_estimators),\n",
    "        X_train,\n",
    "        y_train,\n",
    "        cv=10\n",
    "    )\n",
    "    \n",
    "    mean_scores.append(score.mean())"
   ]
  },
  {
   "cell_type": "code",
   "execution_count": 46,
   "metadata": {},
   "outputs": [
    {
     "data": {
      "image/png": "[encoded data removed]",
      "text/plain": [
       "<matplotlib.figure.Figure at 0x1a100e3d68>"
      ]
     },
     "metadata": {},
     "output_type": "display_data"
    }
   ],
   "source": [
    "plt.plot(parameters_grid['n_estimators'], mean_scores)\n",
    "plt.xlabel('n_estimators')\n",
    "plt.ylabel('mean_score')\n",
    "plt.show()"
   ]
  },
  {
   "cell_type": "markdown",
   "metadata": {},
   "source": [
    "2) При очень маленьком числе деревьев (5, 10, 15), случайный лес работает хуже, чем при большем числе деревьев.\n",
    "\n",
    "\n",
    "3) С ростом количества деревьев в случайном лесе, в какой-то момент деревьев становится достаточно для высокого качества классификации, а затем качество существенно не меняется."
   ]
  },
  {
   "cell_type": "code",
   "execution_count": 47,
   "metadata": {},
   "outputs": [],
   "source": [
    "mean_scores = []\n",
    "\n",
    "for max_features in parameters_grid['max_features']:\n",
    "    score = model_selection.cross_val_score(\n",
    "        ensemble.RandomForestClassifier(max_features=max_features),\n",
    "        X_train,\n",
    "        y_train,\n",
    "        cv=10\n",
    "    )\n",
    "    \n",
    "    mean_scores.append(score.mean())"
   ]
  },
  {
   "cell_type": "code",
   "execution_count": 48,
   "metadata": {},
   "outputs": [
    {
     "data": {
      "image/png": "[encoded data removed]",
      "text/plain": [
       "<matplotlib.figure.Figure at 0x1a100cc518>"
      ]
     },
     "metadata": {},
     "output_type": "display_data"
    }
   ],
   "source": [
    "plt.plot(parameters_grid['max_features'], mean_scores)\n",
    "plt.xlabel('max_features')\n",
    "plt.ylabel('mean_score')\n",
    "plt.show()"
   ]
  },
  {
   "cell_type": "markdown",
   "metadata": {},
   "source": [
    "4) При большом количестве признаков (для данного датасета - 40, 50) качество классификации становится хуже, чем при малом количестве признаков (5, 10). Это связано с тем, что чем меньше признаков выбирается в каждом узле, тем более различными получаются деревья (ведь деревья сильно неустойчивы к изменениям в обучающей выборке), и тем лучше работает их композиция."
   ]
  },
  {
   "cell_type": "code",
   "execution_count": 49,
   "metadata": {},
   "outputs": [],
   "source": [
    "mean_scores = []\n",
    "\n",
    "for max_depth in parameters_grid['max_depth']:\n",
    "    score = model_selection.cross_val_score(\n",
    "        ensemble.RandomForestClassifier(max_depth=max_depth),\n",
    "        X_train,\n",
    "        y_train,\n",
    "        cv=10\n",
    "    )\n",
    "    \n",
    "    mean_scores.append(score.mean())"
   ]
  },
  {
   "cell_type": "code",
   "execution_count": 50,
   "metadata": {},
   "outputs": [
    {
     "data": {
      "image/png": "[encoded data removed]",
      "text/plain": [
       "<matplotlib.figure.Figure at 0x1a11cf99b0>"
      ]
     },
     "metadata": {},
     "output_type": "display_data"
    }
   ],
   "source": [
    "plt.plot(parameters_grid['max_depth'], mean_scores)\n",
    "plt.xlabel('max_depth')\n",
    "plt.ylabel('mean_score')\n",
    "plt.show()"
   ]
  },
  {
   "cell_type": "markdown",
   "metadata": {},
   "source": [
    "7) При небольшой максимальной глубине деревьев (5-6) качество работы случайного леса заметно хуже, чем без ограничений, т.к. деревья получаются недообученными. С ростом глубины качество сначала улучшается, а затем не меняется существенно, т.к. из-за усреднения прогнозов и различий деревьев их переобученность в бэггинге не сказывается на итоговом качестве (все деревья преобучены по-разному, и при усреднении они компенсируют переобученность друг-друга)."
   ]
  }
 ],
 "metadata": {
  "kernelspec": {
   "display_name": "Python [conda env:tensorflow]",
   "language": "python",
   "name": "conda-env-tensorflow-py"
  },
  "language_info": {
   "codemirror_mode": {
    "name": "ipython",
    "version": 3
   },
   "file_extension": ".py",
   "mimetype": "text/x-python",
   "name": "python",
   "nbconvert_exporter": "python",
   "pygments_lexer": "ipython3",
   "version": "3.5.4"
  }
 },
 "nbformat": 4,
 "nbformat_minor": 2
}
