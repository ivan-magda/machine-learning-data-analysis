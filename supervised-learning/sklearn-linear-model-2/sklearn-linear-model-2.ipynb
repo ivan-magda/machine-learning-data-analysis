{
 "cells": [
  {
   "cell_type": "markdown",
   "metadata": {},
   "source": [
    "# Sklearn"
   ]
  },
  {
   "cell_type": "markdown",
   "metadata": {},
   "source": [
    "## sklearn.linear_model"
   ]
  },
  {
   "cell_type": "code",
   "execution_count": 1,
   "metadata": {},
   "outputs": [],
   "source": [
    "from matplotlib.colors import ListedColormap\n",
    "from sklearn import model_selection, datasets, linear_model, metrics\n",
    "import numpy as np"
   ]
  },
  {
   "cell_type": "code",
   "execution_count": 2,
   "metadata": {},
   "outputs": [
    {
     "name": "stdout",
     "output_type": "stream",
     "text": [
      "Populating the interactive namespace from numpy and matplotlib\n"
     ]
    }
   ],
   "source": [
    "%pylab inline"
   ]
  },
  {
   "cell_type": "markdown",
   "metadata": {},
   "source": [
    "### Линейная регрессия"
   ]
  },
  {
   "cell_type": "markdown",
   "metadata": {},
   "source": [
    "#### Генерация данных"
   ]
  },
  {
   "cell_type": "code",
   "execution_count": 31,
   "metadata": {},
   "outputs": [],
   "source": [
    "data, target, coef = datasets.make_regression(n_features = 2,\n",
    "                                              n_informative = 1,\n",
    "                                              n_targets = 1, \n",
    "                                              noise = 5.,\n",
    "                                              coef = True,\n",
    "                                              random_state = 2)"
   ]
  },
  {
   "cell_type": "code",
   "execution_count": 7,
   "metadata": {},
   "outputs": [
    {
     "data": {
      "text/plain": [
       "<matplotlib.collections.PathCollection at 0x10c263668>"
      ]
     },
     "execution_count": 7,
     "metadata": {},
     "output_type": "execute_result"
    },
    {
     "data": {
      "image/png": "[encoded data removed]",
      "text/plain": [
       "<matplotlib.figure.Figure at 0x10c1d66d8>"
      ]
     },
     "metadata": {},
     "output_type": "display_data"
    }
   ],
   "source": [
    "pylab.scatter(list(map(lambda x: x[0], data)), target, color = 'r')\n",
    "pylab.scatter(list(map(lambda x: x[1], data)), target, color = 'b')"
   ]
  },
  {
   "cell_type": "code",
   "execution_count": 30,
   "metadata": {},
   "outputs": [],
   "source": [
    "train_data, test_data, train_labels, test_labels = model_selection.train_test_split(data, target, test_size = 0.3)"
   ]
  },
  {
   "cell_type": "markdown",
   "metadata": {},
   "source": [
    "#### LinearRegression"
   ]
  },
  {
   "cell_type": "code",
   "execution_count": 10,
   "metadata": {},
   "outputs": [],
   "source": [
    "linear_regressor = linear_model.LinearRegression()\n",
    "linear_regressor.fit(train_data, train_labels)\n",
    "predictions = linear_regressor.predict(test_data)"
   ]
  },
  {
   "cell_type": "code",
   "execution_count": 11,
   "metadata": {},
   "outputs": [
    {
     "name": "stdout",
     "output_type": "stream",
     "text": [
      "[ -18.86438755   18.17188553  -10.27758354   12.47089016  -21.47606913\n",
      "  -91.477377    -12.98848753   27.83791274  -42.44469577   22.2276832\n",
      "  -71.3715844     0.34799656   24.47584129  -10.29545833  -32.92158843\n",
      " -105.77758163   64.70214251   58.26281761  -15.01435792   64.19559505\n",
      "  -22.33224966   21.20540389  -32.71074998   12.67156468  -10.06708677\n",
      "  -11.18242389  -45.27502383  126.64909941  -52.37232463  -19.36956003]\n"
     ]
    }
   ],
   "source": [
    "print(test_labels)"
   ]
  },
  {
   "cell_type": "code",
   "execution_count": 12,
   "metadata": {},
   "outputs": [
    {
     "name": "stdout",
     "output_type": "stream",
     "text": [
      "[ -19.41391068   17.95618235   -8.11906407   19.73166808  -18.39851859\n",
      "  -94.41005118  -16.9883408    22.88464127  -39.88123709   18.10948124\n",
      "  -71.83095571   -2.15833842   22.75025322  -11.66626813  -34.65077721\n",
      " -103.15222706   67.96680409   57.18391722  -10.07180391   70.02897726\n",
      "  -29.56073808   16.49930205  -44.17899443   13.74077741  -10.56824066\n",
      "  -13.56725319  -48.64127898  125.85388018  -41.31992567  -32.64937526]\n"
     ]
    }
   ],
   "source": [
    "print(predictions)"
   ]
  },
  {
   "cell_type": "code",
   "execution_count": 13,
   "metadata": {},
   "outputs": [
    {
     "data": {
      "text/plain": [
       "3.7739132885097026"
      ]
     },
     "execution_count": 13,
     "metadata": {},
     "output_type": "execute_result"
    }
   ],
   "source": [
    "metrics.mean_absolute_error(test_labels, predictions)"
   ]
  },
  {
   "cell_type": "code",
   "execution_count": 16,
   "metadata": {},
   "outputs": [
    {
     "name": "stdout",
     "output_type": "stream",
     "text": [
      "mean: -4.070071498779695, std: 1.0737104492890204\n"
     ]
    }
   ],
   "source": [
    "linear_scoring = model_selection.cross_val_score(linear_regressor, data, target, scoring = 'neg_mean_absolute_error', \n",
    "                                                  cv = 10)\n",
    "print('mean: {}, std: {}'.format(linear_scoring.mean(), linear_scoring.std()))"
   ]
  },
  {
   "cell_type": "code",
   "execution_count": 18,
   "metadata": {},
   "outputs": [],
   "source": [
    "scorer = metrics.make_scorer(metrics.mean_absolute_error, greater_is_better = True)"
   ]
  },
  {
   "cell_type": "code",
   "execution_count": 19,
   "metadata": {},
   "outputs": [
    {
     "name": "stdout",
     "output_type": "stream",
     "text": [
      "mean: 4.070071498779695, std: 1.0737104492890204\n"
     ]
    }
   ],
   "source": [
    "linear_scoring = model_selection.cross_val_score(linear_regressor, data, target, scoring=scorer, cv = 10)\n",
    "print('mean: {}, std: {}'.format(linear_scoring.mean(), linear_scoring.std()))"
   ]
  },
  {
   "cell_type": "code",
   "execution_count": 20,
   "metadata": {},
   "outputs": [
    {
     "data": {
      "text/plain": [
       "array([ 38.07925837,   0.        ])"
      ]
     },
     "execution_count": 20,
     "metadata": {},
     "output_type": "execute_result"
    }
   ],
   "source": [
    "coef"
   ]
  },
  {
   "cell_type": "code",
   "execution_count": 21,
   "metadata": {},
   "outputs": [
    {
     "data": {
      "text/plain": [
       "array([ 38.47250451,   0.48046657])"
      ]
     },
     "execution_count": 21,
     "metadata": {},
     "output_type": "execute_result"
    }
   ],
   "source": [
    "linear_regressor.coef_"
   ]
  },
  {
   "cell_type": "code",
   "execution_count": 22,
   "metadata": {},
   "outputs": [
    {
     "data": {
      "text/plain": [
       "-0.79260594313594279"
      ]
     },
     "execution_count": 22,
     "metadata": {},
     "output_type": "execute_result"
    }
   ],
   "source": [
    "# в лекции не указано, что в уравнении обученной модели также участвует свободный член\n",
    "linear_regressor.intercept_"
   ]
  },
  {
   "cell_type": "code",
   "execution_count": 23,
   "metadata": {},
   "outputs": [
    {
     "name": "stdout",
     "output_type": "stream",
     "text": [
      "y = 38.08*x1 + 0.00*x2\n"
     ]
    }
   ],
   "source": [
    "print(\"y = {:.2f}*x1 + {:.2f}*x2\".format(coef[0], coef[1]))"
   ]
  },
  {
   "cell_type": "code",
   "execution_count": 24,
   "metadata": {},
   "outputs": [
    {
     "name": "stdout",
     "output_type": "stream",
     "text": [
      "y = 38.47*x1 + 0.48*x2 + -0.79\n"
     ]
    }
   ],
   "source": [
    "print(\"y = {:.2f}*x1 + {:.2f}*x2 + {:.2f}\".format(linear_regressor.coef_[0], \n",
    "                                                  linear_regressor.coef_[1], \n",
    "                                                  linear_regressor.intercept_))"
   ]
  },
  {
   "cell_type": "markdown",
   "metadata": {},
   "source": [
    "#### Lasso"
   ]
  },
  {
   "cell_type": "code",
   "execution_count": 25,
   "metadata": {},
   "outputs": [],
   "source": [
    "lasso_regressor = linear_model.Lasso(random_state = 3)\n",
    "lasso_regressor.fit(train_data, train_labels)\n",
    "lasso_predictions = lasso_regressor.predict(test_data)"
   ]
  },
  {
   "cell_type": "code",
   "execution_count": 26,
   "metadata": {},
   "outputs": [
    {
     "name": "stdout",
     "output_type": "stream",
     "text": [
      "mean: 4.154478246666398, std: 1.0170354384993354\n"
     ]
    }
   ],
   "source": [
    "lasso_scoring = model_selection.cross_val_score(lasso_regressor, data, target, scoring = scorer, cv = 10)\n",
    "print('mean: {}, std: {}'.format(lasso_scoring.mean(), lasso_scoring.std()))"
   ]
  },
  {
   "cell_type": "code",
   "execution_count": 27,
   "metadata": {},
   "outputs": [
    {
     "name": "stdout",
     "output_type": "stream",
     "text": [
      "[ 37.6026424   0.       ]\n"
     ]
    }
   ],
   "source": [
    "print(lasso_regressor.coef_)"
   ]
  },
  {
   "cell_type": "code",
   "execution_count": 28,
   "metadata": {},
   "outputs": [
    {
     "name": "stdout",
     "output_type": "stream",
     "text": [
      "y = 38.08*x1 + 0.00*x2\n"
     ]
    }
   ],
   "source": [
    "print(\"y = {:.2f}*x1 + {:.2f}*x2\".format(coef[0], coef[1]))"
   ]
  },
  {
   "cell_type": "code",
   "execution_count": 29,
   "metadata": {},
   "outputs": [
    {
     "name": "stdout",
     "output_type": "stream",
     "text": [
      "y = 37.60*x1 + 0.00*x2\n"
     ]
    }
   ],
   "source": [
    "print(\"y = {:.2f}*x1 + {:.2f}*x2\".format(lasso_regressor.coef_[0], lasso_regressor.coef_[1]))"
   ]
  }
 ],
 "metadata": {
  "kernelspec": {
   "display_name": "Python [conda env:tensorflow]",
   "language": "python",
   "name": "conda-env-tensorflow-py"
  },
  "language_info": {
   "codemirror_mode": {
    "name": "ipython",
    "version": 3
   },
   "file_extension": ".py",
   "mimetype": "text/x-python",
   "name": "python",
   "nbconvert_exporter": "python",
   "pygments_lexer": "ipython3",
   "version": "3.5.4"
  }
 },
 "nbformat": 4,
 "nbformat_minor": 1
}
